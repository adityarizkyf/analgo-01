{
 "cells": [
  {
   "cell_type": "code",
   "execution_count": 29,
   "metadata": {},
   "outputs": [],
   "source": [
    "import time\n"
   ]
  },
  {
   "cell_type": "code",
   "execution_count": 30,
   "metadata": {},
   "outputs": [],
   "source": [
    "def pangkat(x,y):\n",
    "    start_time = time.time()\n",
    "    if y==0:\n",
    "        return 1\n",
    "    else:\n",
    "        hasil = x*pangkat(x,y-1)\n",
    "        print('rekursif',y, '= ', hasil)\n",
    "        print(\"--- %s seconds ---\" % (time.time() - start_time))\n",
    "        return hasil\n",
    "    "
   ]
  },
  {
   "cell_type": "code",
   "execution_count": 33,
   "metadata": {},
   "outputs": [
    {
     "name": "stdout",
     "output_type": "stream",
     "text": [
      "Masukan Bilangan Awal: 2\n",
      "Masukan Pangkat: 10\n"
     ]
    }
   ],
   "source": [
    "x=int(input ('Masukan Bilangan Awal: '))\n",
    "y=int(input ('Masukan Pangkat: '))"
   ]
  },
  {
   "cell_type": "code",
   "execution_count": 34,
   "metadata": {},
   "outputs": [
    {
     "name": "stdout",
     "output_type": "stream",
     "text": [
      "rekursif 1 =  2\n",
      "--- 0.0 seconds ---\n",
      "rekursif 2 =  4\n",
      "--- 0.0 seconds ---\n",
      "rekursif 3 =  8\n",
      "--- 0.0 seconds ---\n",
      "rekursif 4 =  16\n",
      "--- 0.0009989738464355469 seconds ---\n",
      "rekursif 5 =  32\n",
      "--- 0.0009989738464355469 seconds ---\n",
      "rekursif 6 =  64\n",
      "--- 0.0009989738464355469 seconds ---\n",
      "rekursif 7 =  128\n",
      "--- 0.0009989738464355469 seconds ---\n",
      "rekursif 8 =  256\n",
      "--- 0.0009989738464355469 seconds ---\n",
      "rekursif 9 =  512\n",
      "--- 0.0009989738464355469 seconds ---\n",
      "rekursif 10 =  1024\n",
      "--- 0.0009989738464355469 seconds ---\n",
      "Hasil dari  2 pangkat 10 = 1024\n"
     ]
    }
   ],
   "source": [
    "print('Hasil dari ', x, 'pangkat', y,'=', pangkat(x,y))"
   ]
  },
  {
   "cell_type": "code",
   "execution_count": null,
   "metadata": {},
   "outputs": [],
   "source": []
  }
 ],
 "metadata": {
  "kernelspec": {
   "display_name": "Python 3",
   "language": "python",
   "name": "python3"
  },
  "language_info": {
   "codemirror_mode": {
    "name": "ipython",
    "version": 3
   },
   "file_extension": ".py",
   "mimetype": "text/x-python",
   "name": "python",
   "nbconvert_exporter": "python",
   "pygments_lexer": "ipython3",
   "version": "3.6.8"
  }
 },
 "nbformat": 4,
 "nbformat_minor": 2
}
