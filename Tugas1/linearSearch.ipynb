{
 "cells": [
  {
   "cell_type": "code",
   "execution_count": 43,
   "metadata": {},
   "outputs": [],
   "source": [
    "import time"
   ]
  },
  {
   "cell_type": "code",
   "execution_count": 64,
   "metadata": {},
   "outputs": [],
   "source": [
    "def linearSearch(isiArr,x):\n",
    "    start_time = time.time()\n",
    "    i = 0\n",
    "    while i < len(isiArr):    \n",
    "        #print(isiArr[i])\n",
    "        if isiArr[i] == x:\n",
    "            print(\"--- %s seconds ---\" % (time.time() - start_time))\n",
    "            return i\n",
    "        i += 1\n",
    "    print(\"--- %s seconds ---\" % (time.time() - start_time))\n",
    "    return -1              "
   ]
  },
  {
   "cell_type": "code",
   "execution_count": 61,
   "metadata": {},
   "outputs": [],
   "source": [
    "linearList = [3,5,9,7,6,12,15,9,1]"
   ]
  },
  {
   "cell_type": "code",
   "execution_count": 66,
   "metadata": {},
   "outputs": [
    {
     "name": "stdout",
     "output_type": "stream",
     "text": [
      "Nomor yang akan di cari adalah: 15\n"
     ]
    }
   ],
   "source": [
    "numInput = (int(input(\"Nomor yang akan di cari adalah: \")))"
   ]
  },
  {
   "cell_type": "code",
   "execution_count": 67,
   "metadata": {},
   "outputs": [
    {
     "name": "stdout",
     "output_type": "stream",
     "text": [
      "--- 0.0 seconds ---\n",
      "Element ada di index ke:  6\n"
     ]
    }
   ],
   "source": [
    "result = linearSearch(linearList, numInput) \n",
    "if(result == -1): \n",
    "    print(\"Element tidak ditemukan\") \n",
    "else: \n",
    "    print(\"Element ada di index ke: \", result)"
   ]
  },
  {
   "cell_type": "code",
   "execution_count": null,
   "metadata": {},
   "outputs": [],
   "source": []
  }
 ],
 "metadata": {
  "kernelspec": {
   "display_name": "Python 3",
   "language": "python",
   "name": "python3"
  },
  "language_info": {
   "codemirror_mode": {
    "name": "ipython",
    "version": 3
   },
   "file_extension": ".py",
   "mimetype": "text/x-python",
   "name": "python",
   "nbconvert_exporter": "python",
   "pygments_lexer": "ipython3",
   "version": "3.6.8"
  }
 },
 "nbformat": 4,
 "nbformat_minor": 2
}
