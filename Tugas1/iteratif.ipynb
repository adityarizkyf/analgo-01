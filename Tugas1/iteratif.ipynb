{
 "cells": [
  {
   "cell_type": "code",
   "execution_count": 1,
   "metadata": {},
   "outputs": [],
   "source": [
    "import time"
   ]
  },
  {
   "cell_type": "code",
   "execution_count": 6,
   "metadata": {},
   "outputs": [],
   "source": [
    "def pangkat (a,b): \n",
    "    start_time = time.time()\n",
    "    if b == 0:\n",
    "        return 1\n",
    "    else:\n",
    "        i=0\n",
    "        hasil = 1\n",
    "        while i < b:\n",
    "            hasil = hasil*a\n",
    "            print('iterasi ke',i+1, '=', hasil)\n",
    "            print(\"--- %s seconds ---\" % (time.time() - start_time))\n",
    "            i += 1\n",
    "        return hasil\n",
    "        "
   ]
  },
  {
   "cell_type": "code",
   "execution_count": 11,
   "metadata": {},
   "outputs": [
    {
     "name": "stdout",
     "output_type": "stream",
     "text": [
      "Masukan Bilangan Awal: 2\n",
      "Masukan Pangkat: 10\n"
     ]
    }
   ],
   "source": [
    "x=int(input ('Masukan Bilangan Awal: '))\n",
    "y=int(input ('Masukan Pangkat: '))"
   ]
  },
  {
   "cell_type": "code",
   "execution_count": 12,
   "metadata": {},
   "outputs": [
    {
     "name": "stdout",
     "output_type": "stream",
     "text": [
      "2 10\n"
     ]
    }
   ],
   "source": [
    "print (x,y)"
   ]
  },
  {
   "cell_type": "code",
   "execution_count": 16,
   "metadata": {},
   "outputs": [
    {
     "name": "stdout",
     "output_type": "stream",
     "text": [
      "iterasi ke 1 = 2\n",
      "--- 0.0 seconds ---\n",
      "iterasi ke 2 = 4\n",
      "--- 0.0 seconds ---\n",
      "iterasi ke 3 = 8\n",
      "--- 0.0 seconds ---\n",
      "iterasi ke 4 = 16\n",
      "--- 0.0 seconds ---\n",
      "iterasi ke 5 = 32\n",
      "--- 0.0 seconds ---\n",
      "iterasi ke 6 = 64\n",
      "--- 0.0 seconds ---\n",
      "iterasi ke 7 = 128\n",
      "--- 0.0 seconds ---\n",
      "iterasi ke 8 = 256\n",
      "--- 1.5799803733825684 seconds ---\n",
      "iterasi ke 9 = 512\n",
      "--- 1.5799803733825684 seconds ---\n",
      "iterasi ke 10 = 1024\n",
      "--- 1.5799803733825684 seconds ---\n",
      "Hasil dari  2 pangkat 10 = 1024\n"
     ]
    }
   ],
   "source": [
    "print('Hasil dari ', x, 'pangkat', y,'=', pangkat(x,y))"
   ]
  },
  {
   "cell_type": "code",
   "execution_count": null,
   "metadata": {},
   "outputs": [],
   "source": []
  },
  {
   "cell_type": "code",
   "execution_count": null,
   "metadata": {},
   "outputs": [],
   "source": []
  }
 ],
 "metadata": {
  "kernelspec": {
   "display_name": "Python 3",
   "language": "python",
   "name": "python3"
  },
  "language_info": {
   "codemirror_mode": {
    "name": "ipython",
    "version": 3
   },
   "file_extension": ".py",
   "mimetype": "text/x-python",
   "name": "python",
   "nbconvert_exporter": "python",
   "pygments_lexer": "ipython3",
   "version": "3.6.8"
  }
 },
 "nbformat": 4,
 "nbformat_minor": 2
}
