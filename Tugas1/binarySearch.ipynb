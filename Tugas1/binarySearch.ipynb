{
 "cells": [
  {
   "cell_type": "code",
   "execution_count": 62,
   "metadata": {},
   "outputs": [],
   "source": [
    "import time"
   ]
  },
  {
   "cell_type": "code",
   "execution_count": 63,
   "metadata": {},
   "outputs": [],
   "source": [
    "def binarySearch(array, target):\n",
    "    start_time = time.time()\n",
    "    lower = 0\n",
    "    upper = len(array)\n",
    "    while lower < upper:   \n",
    "        x = lower + (upper - lower) // 2\n",
    "        val = array[x]\n",
    "        if target == val:\n",
    "            print(\"--- %s seconds ---\" % (time.time() - start_time))\n",
    "            return x\n",
    "        elif target > val:\n",
    "            if lower == x:\n",
    "                break        \n",
    "            lower = x\n",
    "        elif target < val:\n",
    "            upper = x\n",
    "    print(\"--- %s seconds ---\" % (time.time() - start_time))    \n",
    "    return -1"
   ]
  },
  {
   "cell_type": "code",
   "execution_count": 64,
   "metadata": {},
   "outputs": [],
   "source": [
    "binaryList = [3,5,9,11,12,15,19,21,27]"
   ]
  },
  {
   "cell_type": "code",
   "execution_count": 65,
   "metadata": {},
   "outputs": [
    {
     "name": "stdout",
     "output_type": "stream",
     "text": [
      "Nomor yang akan di cari adalah: 15\n"
     ]
    }
   ],
   "source": [
    "numInput = (int(input(\"Nomor yang akan di cari adalah: \")))"
   ]
  },
  {
   "cell_type": "code",
   "execution_count": 66,
   "metadata": {},
   "outputs": [
    {
     "name": "stdout",
     "output_type": "stream",
     "text": [
      "--- 0.0 seconds ---\n",
      "Element ada di index ke:  5\n"
     ]
    }
   ],
   "source": [
    "result = binarySearch(binaryList, numInput) \n",
    "if(result == -1): \n",
    "    print(\"Element tidak ditemukan\") \n",
    "else: \n",
    "    print(\"Element ada di index ke: \", result)"
   ]
  },
  {
   "cell_type": "code",
   "execution_count": null,
   "metadata": {},
   "outputs": [],
   "source": []
  },
  {
   "cell_type": "code",
   "execution_count": null,
   "metadata": {},
   "outputs": [],
   "source": []
  }
 ],
 "metadata": {
  "kernelspec": {
   "display_name": "Python 3",
   "language": "python",
   "name": "python3"
  },
  "language_info": {
   "codemirror_mode": {
    "name": "ipython",
    "version": 3
   },
   "file_extension": ".py",
   "mimetype": "text/x-python",
   "name": "python",
   "nbconvert_exporter": "python",
   "pygments_lexer": "ipython3",
   "version": "3.6.8"
  }
 },
 "nbformat": 4,
 "nbformat_minor": 2
}
